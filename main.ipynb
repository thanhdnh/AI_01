{
 "cells": [
  {
   "cell_type": "code",
   "execution_count": 3,
   "metadata": {},
   "outputs": [
    {
     "name": "stdout",
     "output_type": "stream",
     "text": [
      "TH1: -0.6666666666666666\n",
      "TH2: 0.0\n"
     ]
    }
   ],
   "source": [
    "def SolveEqu(a, b=0):\n",
    "    if(a==0):\n",
    "        if(b==0):\n",
    "            return \"VSN\"\n",
    "        else:\n",
    "            return \"VN\"\n",
    "    else:\n",
    "        return -b/a\n",
    "    \n",
    "a, b = 3, 2\n",
    "print(\"TH1: \" + str(SolveEqu(a, b)))\n",
    "print(\"TH2: \" + str(SolveEqu(3)))"
   ]
  },
  {
   "cell_type": "code",
   "execution_count": 4,
   "metadata": {},
   "outputs": [
    {
     "name": "stdout",
     "output_type": "stream",
     "text": [
      "30\n"
     ]
    }
   ],
   "source": [
    "def Sum(n):\n",
    "    s = 0\n",
    "    for i in range(2, n+1, 2):\n",
    "        s += i\n",
    "    return s\n",
    "\n",
    "print(Sum(10))\n"
   ]
  },
  {
   "cell_type": "code",
   "execution_count": null,
   "metadata": {},
   "outputs": [],
   "source": [
    "import math\n",
    "\n",
    "def sort(list):\n",
    "    for i in range(0, len(list)-1):\n",
    "        for j in range(i+1, len(list)):\n",
    "            if(list[i]>list[j]):\n",
    "                temp = list[i]\n",
    "                list[i] = list[j]\n",
    "                list[j] = temp\n",
    "    return list\n",
    "\n",
    "def binsearch(list, value):\n",
    "    newlist = sort(list)\n",
    "    start = 0\n",
    "    end = len(newlist)-1\n",
    "    while start < end:\n",
    "        mid = math.floor((start + end)/2)\n",
    "        if(newlist[mid] == value):\n",
    "            break #return mid\n",
    "        elif(value>newlist[mid]):\n",
    "            start = mid + 1\n",
    "        else:\n",
    "            end = mid - 1\n",
    "    for i in range(len(list)):\n",
    "        if(list[i] == newlist[mid]):\n",
    "            return i\n"
   ]
  },
  {
   "cell_type": "code",
   "execution_count": 9,
   "metadata": {},
   "outputs": [],
   "source": [
    "class Complex(object):\n",
    "    __real__ = 0\n",
    "    __imag__ = 0\n",
    "\n",
    "    def __init__(self, x, y):\n",
    "        self.__real__ = x\n",
    "        self.__imag__ = y\n",
    "\n",
    "    def __str__(self):\n",
    "        return str(self.__real__) + \"+i*\" + str(self.__imag__)"
   ]
  },
  {
   "cell_type": "code",
   "execution_count": 10,
   "metadata": {},
   "outputs": [
    {
     "name": "stdout",
     "output_type": "stream",
     "text": [
      "3+i*2\n"
     ]
    }
   ],
   "source": [
    "com = Complex(3, 2)\n",
    "print(com)"
   ]
  }
 ],
 "metadata": {
  "kernelspec": {
   "display_name": "Python 3",
   "language": "python",
   "name": "python3"
  },
  "language_info": {
   "codemirror_mode": {
    "name": "ipython",
    "version": 3
   },
   "file_extension": ".py",
   "mimetype": "text/x-python",
   "name": "python",
   "nbconvert_exporter": "python",
   "pygments_lexer": "ipython3",
   "version": "3.10.3"
  }
 },
 "nbformat": 4,
 "nbformat_minor": 2
}
